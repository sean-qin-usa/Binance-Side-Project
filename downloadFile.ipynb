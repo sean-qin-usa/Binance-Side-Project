{
 "cells": [
  {
   "cell_type": "code",
   "execution_count": null,
   "metadata": {},
   "outputs": [
    {
     "data": {
      "text/plain": [
       "0"
      ]
     },
     "execution_count": 6,
     "metadata": {},
     "output_type": "execute_result"
    }
   ],
   "source": [
    "import os\n",
    "\n",
    "#os.system(\"ls\")\n",
    "#os.system(\"pwd\")\n",
    "os.system(\"curl -s https://data.binance.vision/data/spot/daily/klines/BTCUSDT/1s/BTCUSDT-1s-2025-04-15.zip -o /Users/sean_tsu_/workPlan/data/btc_1_sec.zip\") \n",
    "\n",
    "os.system(\"curl -s https://data.binance.vision/data/spot/daily/klines/BTCUSDT/1s/BTCUSDT-1s-2025-04-15.zip -o /Users/sean_tsu_/workPlan/data/btc_1_sec.zip\")"
   ]
  },
  {
   "cell_type": "code",
   "execution_count": null,
   "metadata": {},
   "outputs": [],
   "source": [
    "import pandas as pd\n",
    "\n",
    "dates = pd.date_range(start = '20250301', end ='20250303')\n",
    "\n",
    "for date in dates:\n",
    "    converted_d = date.strftime(\"%Y-%m-%d\")\n",
    "    name = f\"BTCUSDT-1s-{converted_d}.zip\"\n",
    "    import_1_sec_file = f\"curl -s https://data.binance.vision/data/spot/daily/klines/BTCUSDT/1s/{name} -o /Users/sean_tsu_/workPlan/data/{name}\"\n",
    "    os.system(import_1_sec_file)\n",
    "    "
   ]
  },
  {
   "cell_type": "code",
   "execution_count": 25,
   "metadata": {},
   "outputs": [
    {
     "name": "stdout",
     "output_type": "stream",
     "text": [
      "Archive:  BTCUSDT-1s-2025-03-02.zip\n",
      "\n",
      "Archive:  BTCUSDT-1s-2025-03-03.zip\n",
      "\n",
      "Archive:  BTCUSDT-1s-2025-03-01.zip\n",
      "\n",
      "Archive:  btc_1_sec.zip\n"
     ]
    },
    {
     "name": "stderr",
     "output_type": "stream",
     "text": [
      "\n",
      "4 archives were successfully processed.\n"
     ]
    },
    {
     "data": {
      "text/plain": [
       "0"
      ]
     },
     "execution_count": 25,
     "metadata": {},
     "output_type": "execute_result"
    }
   ],
   "source": [
    "os.system(\"cd /Users/sean_tsu_/workPlan/data; unzip -f \\\\*.zip\")"
   ]
  }
 ],
 "metadata": {
  "kernelspec": {
   "display_name": "Python 3",
   "language": "python",
   "name": "python3"
  },
  "language_info": {
   "codemirror_mode": {
    "name": "ipython",
    "version": 3
   },
   "file_extension": ".py",
   "mimetype": "text/x-python",
   "name": "python",
   "nbconvert_exporter": "python",
   "pygments_lexer": "ipython3",
   "version": "3.13.2"
  }
 },
 "nbformat": 4,
 "nbformat_minor": 2
}
